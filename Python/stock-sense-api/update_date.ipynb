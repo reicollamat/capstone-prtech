{
 "cells": [
  {
   "cell_type": "code",
   "execution_count": 1,
   "metadata": {},
   "outputs": [],
   "source": [
    "import pandas as pd\n",
    "from datetime import datetime, timedelta"
   ]
  },
  {
   "cell_type": "code",
   "execution_count": 23,
   "metadata": {},
   "outputs": [
    {
     "name": "stdout",
     "output_type": "stream",
     "text": [
      "Number of unique days: 216\n",
      "Number of unique months: 8\n"
     ]
    }
   ],
   "source": [
    "# Read the CSV file into a pandas DataFrame\n",
    "df = pd.read_csv('purchase_csv-old/data55_old.csv')\n",
    "\n",
    "# Convert 'created_date' column to datetime format\n",
    "df['created_date'] = pd.to_datetime(df['created_date'])\n",
    "\n",
    "# Count the number of unique dates\n",
    "unique_days = df['created_date'].dt.date.nunique()\n",
    "\n",
    "print(\"Number of unique days:\", unique_days)\n",
    "\n",
    "\n",
    "# Convert 'created_date' column to datetime format\n",
    "df['created_date'] = pd.to_datetime(df['created_date'])\n",
    "\n",
    "# Extract month from 'created_date' column\n",
    "df['month'] = df['created_date'].dt.month\n",
    "\n",
    "# Count the number of unique months\n",
    "unique_months = df['month'].nunique()\n",
    "\n",
    "print(\"Number of unique months:\", unique_months)"
   ]
  },
  {
   "cell_type": "code",
   "execution_count": null,
   "metadata": {},
   "outputs": [],
   "source": [
    "\n",
    "# Read the CSV file into a pandas DataFrame\n",
    "df = pd.read_csv('purchase_csv-old/data55_old.csv')\n",
    "\n",
    "# Define a function to map old dates to new dates within your desired range\n",
    "def map_dates(old_date):\n",
    "    old_date = datetime.strptime(old_date, '%Y-%m-%d')  # Convert string to datetime object\n",
    "    # Example: Mapping old dates to a new range of dates from 2024-01-01 to 2024-01-31\n",
    "    new_date = old_date + timedelta(days=108)  # Adjust this calculation as per your desired range\n",
    "    return new_date.strftime('%Y-%m-%d')  # Convert datetime object back to string\n",
    "\n",
    "# Apply the function to the 'created_date' column\n",
    "df['created_date'] = df['created_date'].apply(map_dates)\n",
    "# print(df['created_date'])\n",
    "\n",
    "\n",
    "# Save the modified DataFrame back to a new CSV file\n",
    "df.to_csv('purchase_csv-new/data55_new_6months.csv', index=False)"
   ]
  },
  {
   "cell_type": "code",
   "execution_count": 17,
   "metadata": {},
   "outputs": [],
   "source": [
    "\n",
    "# Read the CSV file into a pandas DataFrame\n",
    "df = pd.read_csv('purchase_csv-old/data187_old.csv')\n",
    "\n",
    "# Define a function to map old dates to new dates within your desired range\n",
    "def map_dates(old_date):\n",
    "    old_date = datetime.strptime(old_date, '%Y-%m-%d')  # Convert string to datetime object\n",
    "    # Example: Mapping old dates to a new range of dates from 2024-01-01 to 2024-01-31\n",
    "    new_date = old_date + timedelta(days=108)  # Adjust this calculation as per your desired range\n",
    "    return new_date.strftime('%Y-%m-%d')  # Convert datetime object back to string\n",
    "\n",
    "# Apply the function to the 'created_date' column\n",
    "df['created_date'] = df['created_date'].apply(map_dates)\n",
    "# print(df['created_date'])\n",
    "\n",
    "\n",
    "# Save the modified DataFrame back to a new CSV file\n",
    "df.to_csv('purchase_csv-new/data187_new_6months.csv', index=False)"
   ]
  },
  {
   "cell_type": "code",
   "execution_count": 18,
   "metadata": {},
   "outputs": [],
   "source": [
    "\n",
    "# Read the CSV file into a pandas DataFrame\n",
    "df = pd.read_csv('purchase_csv-old/data222_old.csv')\n",
    "\n",
    "# Define a function to map old dates to new dates within your desired range\n",
    "def map_dates(old_date):\n",
    "    old_date = datetime.strptime(old_date, '%Y-%m-%d')  # Convert string to datetime object\n",
    "    # Example: Mapping old dates to a new range of dates from 2024-01-01 to 2024-01-31\n",
    "    new_date = old_date + timedelta(days=108)  # Adjust this calculation as per your desired range\n",
    "    return new_date.strftime('%Y-%m-%d')  # Convert datetime object back to string\n",
    "\n",
    "# Apply the function to the 'created_date' column\n",
    "df['created_date'] = df['created_date'].apply(map_dates)\n",
    "# print(df['created_date'])\n",
    "\n",
    "\n",
    "# Save the modified DataFrame back to a new CSV file\n",
    "df.to_csv('purchase_csv-new/data222_new_6months.csv', index=False)"
   ]
  },
  {
   "cell_type": "code",
   "execution_count": 19,
   "metadata": {},
   "outputs": [],
   "source": [
    "\n",
    "# Read the CSV file into a pandas DataFrame\n",
    "df = pd.read_csv('purchase_csv-old/data249_old.csv')\n",
    "\n",
    "# Define a function to map old dates to new dates within your desired range\n",
    "def map_dates(old_date):\n",
    "    old_date = datetime.strptime(old_date, '%Y-%m-%d')  # Convert string to datetime object\n",
    "    # Example: Mapping old dates to a new range of dates from 2024-01-01 to 2024-01-31\n",
    "    new_date = old_date + timedelta(days=108)  # Adjust this calculation as per your desired range\n",
    "    return new_date.strftime('%Y-%m-%d')  # Convert datetime object back to string\n",
    "\n",
    "# Apply the function to the 'created_date' column\n",
    "df['created_date'] = df['created_date'].apply(map_dates)\n",
    "# print(df['created_date'])\n",
    "\n",
    "\n",
    "# Save the modified DataFrame back to a new CSV file\n",
    "df.to_csv('purchase_csv-new/data249_new_6months.csv', index=False)"
   ]
  },
  {
   "cell_type": "code",
   "execution_count": 20,
   "metadata": {},
   "outputs": [],
   "source": [
    "\n",
    "# Read the CSV file into a pandas DataFrame\n",
    "df = pd.read_csv('purchase_csv-old/data708_old.csv')\n",
    "\n",
    "# Define a function to map old dates to new dates within your desired range\n",
    "def map_dates(old_date):\n",
    "    old_date = datetime.strptime(old_date, '%Y-%m-%d')  # Convert string to datetime object\n",
    "    # Example: Mapping old dates to a new range of dates from 2024-01-01 to 2024-01-31\n",
    "    new_date = old_date + timedelta(days=108)  # Adjust this calculation as per your desired range\n",
    "    return new_date.strftime('%Y-%m-%d')  # Convert datetime object back to string\n",
    "\n",
    "# Apply the function to the 'created_date' column\n",
    "df['created_date'] = df['created_date'].apply(map_dates)\n",
    "# print(df['created_date'])\n",
    "\n",
    "\n",
    "# Save the modified DataFrame back to a new CSV file\n",
    "df.to_csv('purchase_csv-new/data708_new_6months.csv', index=False)"
   ]
  }
 ],
 "metadata": {
  "kernelspec": {
   "display_name": "Python 3",
   "language": "python",
   "name": "python3"
  },
  "language_info": {
   "codemirror_mode": {
    "name": "ipython",
    "version": 3
   },
   "file_extension": ".py",
   "mimetype": "text/x-python",
   "name": "python",
   "nbconvert_exporter": "python",
   "pygments_lexer": "ipython3",
   "version": "3.11.8"
  }
 },
 "nbformat": 4,
 "nbformat_minor": 2
}
